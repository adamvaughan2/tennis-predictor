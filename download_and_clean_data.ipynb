{
 "cells": [
  {
   "attachments": {},
   "cell_type": "markdown",
   "metadata": {},
   "source": [
    "## Notebook loads ATP results from tennis-data.co.uk, cleans and saves as single CSV file.\n",
    "On my laptop with decent internet, this takes about 1 minute to run"
   ]
  },
  {
   "cell_type": "code",
   "execution_count": 1,
   "metadata": {},
   "outputs": [],
   "source": [
    "import pandas as pd\n",
    "import numpy as np\n",
    "import zipfile\n",
    "import requests\n",
    "from io import BytesIO\n",
    "import os\n",
    "pd.set_option('display.max_columns', None)"
   ]
  },
  {
   "cell_type": "code",
   "execution_count": 2,
   "metadata": {},
   "outputs": [
    {
     "name": "stderr",
     "output_type": "stream",
     "text": [
      "c:\\Python313\\Lib\\site-packages\\openpyxl\\worksheet\\_reader.py:329: UserWarning: Unknown extension is not supported and will be removed\n",
      "  warn(msg)\n",
      "c:\\Python313\\Lib\\site-packages\\openpyxl\\worksheet\\_reader.py:329: UserWarning: Unknown extension is not supported and will be removed\n",
      "  warn(msg)\n",
      "c:\\Python313\\Lib\\site-packages\\openpyxl\\worksheet\\_reader.py:329: UserWarning: Unknown extension is not supported and will be removed\n",
      "  warn(msg)\n",
      "c:\\Python313\\Lib\\site-packages\\openpyxl\\worksheet\\_reader.py:329: UserWarning: Unknown extension is not supported and will be removed\n",
      "  warn(msg)\n",
      "C:\\Users\\adamv\\AppData\\Local\\Temp\\ipykernel_18256\\1455536942.py:51: FutureWarning: Downcasting behavior in `replace` is deprecated and will be removed in a future version. To retain the old behavior, explicitly call `result.infer_objects(copy=False)`. To opt-in to the future behavior, set `pd.set_option('future.no_silent_downcasting', True)`\n",
      "  df['W3'] = df['W3'].replace(' ', np.nan)\n",
      "C:\\Users\\adamv\\AppData\\Local\\Temp\\ipykernel_18256\\1455536942.py:52: FutureWarning: Downcasting behavior in `replace` is deprecated and will be removed in a future version. To retain the old behavior, explicitly call `result.infer_objects(copy=False)`. To opt-in to the future behavior, set `pd.set_option('future.no_silent_downcasting', True)`\n",
      "  df['L3'] = df['L3'].replace(' ', np.nan)\n"
     ]
    }
   ],
   "source": [
    "# define set of files to download\n",
    "# @TODO: save each raw file individually so that in future we can\n",
    "# only download the files we don't already have and the current year\n",
    "links = ['http://tennis-data.co.uk/2000/2000.xls', 'http://tennis-data.co.uk/2001/2001.xls', 'http://tennis-data.co.uk/2002/2002.xls', 'http://tennis-data.co.uk/2003/2003.xls',\n",
    "        'http://tennis-data.co.uk/2004/2004.xls', 'http://tennis-data.co.uk/2005/2005.xls', 'http://tennis-data.co.uk/2006/2006.xls', 'http://tennis-data.co.uk/2007/2007.xls',\n",
    "        'http://tennis-data.co.uk/2008/2008.zip', 'http://tennis-data.co.uk/2009/2009.xls', 'http://tennis-data.co.uk/2010/2010.xls', 'http://tennis-data.co.uk/2011/2011.xls',\n",
    "        'http://tennis-data.co.uk/2012/2012.xls', 'http://tennis-data.co.uk/2013/2013.xlsx', 'http://tennis-data.co.uk/2014/2014.xlsx', 'http://tennis-data.co.uk/2015/2015.xlsx',\n",
    "        'http://tennis-data.co.uk/2016/2016.xlsx', 'http://tennis-data.co.uk/2017/2017.xlsx', 'http://tennis-data.co.uk/2018/2018.xlsx', 'http://tennis-data.co.uk/2019/2019.xlsx',\n",
    "        'http://tennis-data.co.uk/2020/2020.xlsx', 'http://tennis-data.co.uk/2021/2021.xlsx', 'http://tennis-data.co.uk/2022/2022.xlsx', 'http://tennis-data.co.uk/2023/2023.xlsx',\n",
    "        'http://tennis-data.co.uk/2024/2024.xlsx', 'http://tennis-data.co.uk/2025/2025.xlsx']\n",
    "\n",
    "# load each file and concatenate them into one dataframe\n",
    "df = pd.DataFrame()\n",
    "for i, elem in enumerate(links):\n",
    "    if elem[-4:] == '.zip':\n",
    "        content = requests.get(elem)\n",
    "        zf = zipfile.ZipFile(BytesIO(content.content))\n",
    "        temp = pd.read_excel(zf.open(zf.namelist()[0])) \n",
    "    else:\n",
    "        temp = pd.read_excel(elem)\n",
    "    df = pd.concat([df, temp], ignore_index=True)\n",
    "\n",
    "# clean data\n",
    "# some names have a trailing space\n",
    "df['Winner'] = df['Winner'].str.strip()\n",
    "df['Loser'] = df['Loser'].str.strip()\n",
    "\n",
    "# some names do not have a full stop at the end - add it\n",
    "df['Winner'] = [x + '.' if x[-1] != '.' else x for x in df['Winner']]\n",
    "df['Loser'] = [x + '.' if x[-1] != '.' else x for x in df['Loser']]\n",
    "\n",
    "# 15 matches have missing best of data - fill with 3\n",
    "df['Best of'] = df['Best of'].fillna(3)\n",
    "\n",
    "# only keep completed matches - removes retired, walkovers etc\n",
    "df = df[df['Comment'] == 'Completed'].reset_index(drop=True)\n",
    "\n",
    "# remove matches with incomplete data. Note that WPts and LPts are empty at the start, but we probably won't use them\n",
    "# as the points system changes over time so rank is a more consistent metric\n",
    "df = df[~df['WRank'].isnull()].reset_index(drop=True)\n",
    "df = df[~df['LRank'].isnull()].reset_index(drop=True)\n",
    "df = df.loc[df.LRank != 'NR']\n",
    "df = df[~df['W1'].isnull()].reset_index(drop=True)\n",
    "df = df[~df['W2'].isnull()].reset_index(drop=True)\n",
    "df = df[~df['L1'].isnull()].reset_index(drop=True)\n",
    "df = df[~df['L2'].isnull()].reset_index(drop=True)\n",
    "df = df[~df['Wsets'].isnull()].reset_index(drop=True)\n",
    "df = df[~df['Lsets'].isnull()].reset_index(drop=True)\n",
    "\n",
    "# L3 and W3 sometimes have an empty string (in the same row as each other) - replace with NaN\n",
    "df['W3'] = df['W3'].replace(' ', np.nan)\n",
    "df['L3'] = df['L3'].replace(' ', np.nan)\n",
    "\n",
    "# take only the interesting columns - removing only betting odds columns\n",
    "df = df[['ATP','Location','Tournament','Date','Series','Court','Surface','Round','Best of','Winner','Loser','WRank','LRank','W1','L1','W2','L2','W3','L3','W4','L4','W5','L5','Wsets','Lsets']]\n",
    "\n",
    "# save to single CSV file\n",
    "df.to_csv('atp_tennis.csv')"
   ]
  },
  {
   "cell_type": "code",
   "execution_count": null,
   "metadata": {},
   "outputs": [],
   "source": []
  }
 ],
 "metadata": {
  "kernelspec": {
   "display_name": "Python 3",
   "language": "python",
   "name": "python3"
  },
  "language_info": {
   "codemirror_mode": {
    "name": "ipython",
    "version": 3
   },
   "file_extension": ".py",
   "mimetype": "text/x-python",
   "name": "python",
   "nbconvert_exporter": "python",
   "pygments_lexer": "ipython3",
   "version": "3.13.3"
  },
  "orig_nbformat": 4
 },
 "nbformat": 4,
 "nbformat_minor": 2
}
