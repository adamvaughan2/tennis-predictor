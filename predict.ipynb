{
 "cells": [
  {
   "cell_type": "code",
   "execution_count": 1,
   "id": "fabef0e4",
   "metadata": {},
   "outputs": [],
   "source": [
    "import pandas as pd\n",
    "import pickle\n",
    "import numpy as np"
   ]
  },
  {
   "cell_type": "code",
   "execution_count": 2,
   "id": "3d6c1b93",
   "metadata": {},
   "outputs": [
    {
     "name": "stderr",
     "output_type": "stream",
     "text": [
      "C:\\Users\\adamv\\AppData\\Local\\Temp\\ipykernel_16532\\744581355.py:6: UserWarning: Could not infer format, so each element will be parsed individually, falling back to `dateutil`. To ensure parsing is consistent and as-expected, please specify a format.\n",
      "  df = pd.read_csv('atp_tennis_engineered.csv', index_col=0, parse_dates=True)\n"
     ]
    }
   ],
   "source": [
    "# load model\n",
    "with open('gb_model.pkl', 'rb') as file:\n",
    "    model = pickle.load(file)\n",
    "\n",
    "# load data\n",
    "df = pd.read_csv('atp_tennis_engineered.csv', index_col=0, parse_dates=True)"
   ]
  },
  {
   "cell_type": "code",
   "execution_count": null,
   "id": "32df98d2",
   "metadata": {},
   "outputs": [
    {
     "name": "stdout",
     "output_type": "stream",
     "text": [
      " Rank A  Rank B  SurfaceWinProportion A  SurfaceWinProportion B  H2HWinProportion A  H2HWinProportion B   Form A  Form B\n",
      "    2.0    68.0                0.888889                0.333333                 0.5                 0.5 0.833333     0.5\n",
      "=======================================\n",
      "Predicted winner: Alcaraz C.\n"
     ]
    }
   ],
   "source": [
    "player_A = 'Alcaraz C.'\n",
    "player_B = 'Fearnley J.'\n",
    "\n",
    "surface = 'Grass'\n",
    "\n",
    "# find all matches containing player A and player B as either Winner or Loser\n",
    "matches_A = df[(df['Winner'] == player_A) | (df['Loser'] == player_A)]\n",
    "matches_B = df[(df['Winner'] == player_B) | (df['Loser'] == player_B)]\n",
    "\n",
    "# find rank of players in the last match they played\n",
    "last_match_A = matches_A.sort_values('Date').iloc[-1]\n",
    "last_match_B = matches_B.sort_values('Date').iloc[-1]\n",
    "rank_A = last_match_A['WRank'] if last_match_A['Winner'] == player_A else last_match_A['LRank']\n",
    "rank_B = last_match_B['WRank'] if last_match_B['Winner'] == player_B else last_match_B['LRank']\n",
    "\n",
    "# find win proportion of each player in 90 days up to last match in dataset\n",
    "last_date = pd.to_datetime(df['Date'].max())\n",
    "form_start_date = (last_date - pd.DateOffset(days=90)).date()\n",
    "form_matches_A = matches_A[pd.to_datetime(matches_A['Date']).dt.date >= form_start_date]\n",
    "form_matches_B = matches_B[pd.to_datetime(matches_B['Date']).dt.date >= form_start_date]\n",
    "\n",
    "form_A = (form_matches_A['Winner'] == player_A).sum() / len(form_matches_A) if len(form_matches_A) > 0 else 0\n",
    "form_B = (form_matches_B['Winner'] == player_B).sum() / len(form_matches_B) if len(form_matches_B) > 0 else 0\n",
    "\n",
    "# find win proportion of each player on the given surface\n",
    "surface_matches_A = matches_A[matches_A['Surface'] == surface]\n",
    "surface_matches_B = matches_B[matches_B['Surface'] == surface]\n",
    "surfacewinproportion_A = (surface_matches_A['Winner'] == player_A).sum() / len(surface_matches_A) if len(surface_matches_A) > 0 else 0\n",
    "surfacewinproportion_B = (surface_matches_B['Winner'] == player_B).sum() / len(surface_matches_B) if len(surface_matches_B) > 0 else 0\n",
    "\n",
    "# find head-to-head win proportion of each player\n",
    "h2h_matches = df[((df['Winner'] == player_A) & (df['Loser'] == player_B)) | ((df['Winner'] == player_B) & (df['Loser'] == player_A))]\n",
    "h2h_A = (h2h_matches['Winner'] == player_A).sum() / len(h2h_matches) if len(h2h_matches) > 0 else 0.5\n",
    "h2h_B = 1 - h2h_A\n",
    "\n",
    "features_df = pd.DataFrame(\n",
    "    data=[[rank_A, rank_B, surfacewinproportion_A, surfacewinproportion_B, h2h_A, h2h_B, form_A, form_B]],\n",
    "    columns=model.metadata['features']\n",
    ")\n",
    "\n",
    "print(features_df.to_string(index=False))\n",
    "prediction_array = model.predict(features_df)\n",
    "predicted_winner = player_A if prediction_array[0] == 1 else player_B\n",
    "print('=======================================')\n",
    "print(f\"Predicted winner: {predicted_winner}\")\n",
    "\n",
    "prediction_array = model.predict(features_df)\n",
    "predicted_winner = player_A if prediction_array[0] == 1 else player_B\n",
    "print('=======================================')\n",
    "print(f\"Predicted winner: {predicted_winner}\")"
   ]
  },
  {
   "cell_type": "code",
   "execution_count": 10,
   "id": "a63c694a",
   "metadata": {},
   "outputs": [
    {
     "data": {
      "text/plain": [
       "array(['Djokovic N.', 'Djokovic N. '], dtype=object)"
      ]
     },
     "execution_count": 10,
     "metadata": {},
     "output_type": "execute_result"
    }
   ],
   "source": [
    "df.loc[df['Winner'].str.contains('Djokovic')]['Winner'].unique()"
   ]
  },
  {
   "cell_type": "code",
   "execution_count": null,
   "id": "efad1cb7",
   "metadata": {},
   "outputs": [],
   "source": []
  }
 ],
 "metadata": {
  "kernelspec": {
   "display_name": "Python 3",
   "language": "python",
   "name": "python3"
  },
  "language_info": {
   "codemirror_mode": {
    "name": "ipython",
    "version": 3
   },
   "file_extension": ".py",
   "mimetype": "text/x-python",
   "name": "python",
   "nbconvert_exporter": "python",
   "pygments_lexer": "ipython3",
   "version": "3.13.3"
  }
 },
 "nbformat": 4,
 "nbformat_minor": 5
}
