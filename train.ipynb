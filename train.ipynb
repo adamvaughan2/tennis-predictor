{
 "cells": [
  {
   "cell_type": "markdown",
   "metadata": {},
   "source": [
    "## Predict ATP tour match results!"
   ]
  },
  {
   "cell_type": "code",
   "execution_count": 1,
   "metadata": {},
   "outputs": [],
   "source": [
    "import pandas as pd\n",
    "import datetime as dt\n",
    "import pickle\n",
    "\n",
    "import plotly.graph_objects as go\n",
    "from plotly.subplots import make_subplots\n",
    "\n",
    "from sklearn.model_selection import train_test_split\n",
    "from sklearn.linear_model import LogisticRegression\n",
    "from sklearn.ensemble import RandomForestClassifier\n",
    "from sklearn.ensemble import HistGradientBoostingClassifier\n",
    "from sklearn.metrics import confusion_matrix, classification_report, accuracy_score, f1_score, roc_auc_score\n",
    "\n",
    "pd.set_option('display.max_columns', None)"
   ]
  },
  {
   "cell_type": "markdown",
   "metadata": {},
   "source": [
    "## Load dataset and engineer features\n",
    "On my laptop this takes about 45 minutes to run if ENGINEER_FEATURES = True"
   ]
  },
  {
   "cell_type": "code",
   "execution_count": null,
   "metadata": {},
   "outputs": [],
   "source": [
    "# @TODO: more features to get round to testing:\n",
    "# - H2H win proportion in last x days or last y matches\n",
    "# - H2H win proportion on that surface\n",
    "# - an intelligent indicator of match importance/pressure. This could be\n",
    "#   a bool for grand slam, a bool for final or semi or both or some combination\n",
    "# - number of H2H matches? Feels like there needs to be added context for the\n",
    "#   H2H stat - a 100% H2H is misleading if they've only played each other once\n",
    "\n",
    "# @TODO: think more about default values if no data for features. Gradient boost\n",
    "# accepts NaNs so worth trying NaN as default\n",
    "\n",
    "# choose whether to create engineered CSV or use\n",
    "# current local file\n",
    "ENGINEER_FEATURES = False\n",
    "\n",
    "if ENGINEER_FEATURES:\n",
    "    # load dataset\n",
    "    df = pd.read_csv('atp_tennis.csv', index_col=0)\n",
    "    df['Date'] = pd.to_datetime(df['Date'])\n",
    "    df.sort_values(by='Date', inplace=True)\n",
    "\n",
    "    # engineer some features that we can use later\n",
    "    # we could get some information out of the date of each match\n",
    "    # we'll try splitting it into month and year\n",
    "    df['Month'] = df['Date'].dt.month\n",
    "    df['Year'] = df['Date'].dt.year\n",
    "\n",
    "    # calculate the form (win proportion) of the winner and loser\n",
    "    # in last x days before match\n",
    "    def calculate_form(match, winner_or_loser:str, days:int=90):\n",
    "        player = match[winner_or_loser]\n",
    "\n",
    "        # return df of all matches that player has played in 90 days before match\n",
    "        played = (df['Winner'] == player) | (df['Loser'] == player)\n",
    "        timerange = (df['Date'] > match['Date'] - pd.Timedelta(days=days)) & (df['Date'] < match['Date'])\n",
    "        matches = df.loc[timerange & played]\n",
    "\n",
    "        # calculate form if they have played in last 90 days\n",
    "        if len(matches) > 0:\n",
    "            wins = len(matches.loc[matches['Winner'] == player])\n",
    "            return wins / len(matches)\n",
    "        else:\n",
    "            return 0\n",
    "\n",
    "    # calculate all time win proportion on that surface\n",
    "    def calculate_surface_win_proportion(match, winner_or_loser:str):\n",
    "        player = match[winner_or_loser]\n",
    "        surface = match['Surface']\n",
    "\n",
    "        # return df of all matches that player has played on that surface\n",
    "        # previous to this match\n",
    "        timerange = df['Date'] < match['Date']\n",
    "        played = (df['Winner'] == player) | (df['Loser'] == player)\n",
    "        surface = df['Surface'] == surface\n",
    "        matches = df.loc[timerange & played & surface]\n",
    "\n",
    "        # calculate win proportion if they have played on that surface\n",
    "        if len(matches) > 0:\n",
    "            wins = len(matches.loc[matches['Winner'] == player])\n",
    "            return wins / len(matches)\n",
    "        else:\n",
    "            return 0\n",
    "\n",
    "    # calculate all time head to head win proportion of winner\n",
    "    def calculate_winner_h2h_win_proportion(match):\n",
    "        winner = match['Winner']\n",
    "        loser = match['Loser']\n",
    "\n",
    "        # return df of all matches that player has played against opponent\n",
    "        # previous to this match\n",
    "        timerange = df['Date'] < match['Date']\n",
    "        winner_won = (df['Winner'] == winner) & (df['Loser'] == loser)\n",
    "        loser_won = (df['Winner'] == loser) & (df['Loser'] == winner)\n",
    "        both_played = winner_won | loser_won\n",
    "        matches = df.loc[timerange & both_played]\n",
    "\n",
    "        # calculate win proportion if they have played against opponent\n",
    "        if len(matches) > 0:\n",
    "            winner_wins = len(matches.loc[matches['Winner'] == winner])\n",
    "            return winner_wins / len(matches)\n",
    "        else:\n",
    "            return 0.5\n",
    "    \n",
    "    # calculate number of all time head to head matches\n",
    "    def calculate_h2h_count(match):\n",
    "        winner = match['Winner']\n",
    "        loser = match['Loser']\n",
    "\n",
    "        # return df of all matches that player has played against opponent\n",
    "        # previous to this match\n",
    "        timerange = df['Date'] < match['Date']\n",
    "        winner_won = (df['Winner'] == winner) & (df['Loser'] == loser)\n",
    "        loser_won = (df['Winner'] == loser) & (df['Loser'] == winner)\n",
    "        both_played = winner_won | loser_won\n",
    "        matches = df.loc[timerange & both_played]\n",
    "\n",
    "        return len(matches)\n",
    "\n",
    "    df['WSurfaceWinProportion'] = df.apply(calculate_surface_win_proportion, winner_or_loser='Winner', axis=1)\n",
    "    df['LSurfaceWinProportion'] = df.apply(calculate_surface_win_proportion, winner_or_loser='Loser', axis=1)\n",
    "\n",
    "    df['WH2HWinProportion'] = df.apply(calculate_winner_h2h_win_proportion, axis=1)\n",
    "    df['LH2HWinProportion'] = 1 - df['WH2HWinProportion']\n",
    "\n",
    "    df['H2HCount'] = df.apply(calculate_h2h_count, axis=1)\n",
    "\n",
    "    FORM_DAYS = 90\n",
    "    df['WForm'] = df.apply(calculate_form, winner_or_loser='Winner', days=FORM_DAYS, axis=1)\n",
    "    df['LForm'] = df.apply(calculate_form, winner_or_loser='Loser', days=FORM_DAYS, axis=1)\n",
    "\n",
    "    # save as CSV\n",
    "    df.to_csv('atp_tennis_engineered.csv')\n",
    "\n",
    "# load engineered dataset\n",
    "df = pd.read_csv('atp_tennis_engineered.csv', index_col=0)\n",
    "df['Date'] = pd.to_datetime(df['Date'])\n",
    "df.sort_values(by='Date', inplace=True)"
   ]
  },
  {
   "cell_type": "markdown",
   "metadata": {},
   "source": [
    "## Transform columns for ML\n",
    "- Change references from Winner/Loser to Player A/Player B\n",
    "- Add Winner as target column"
   ]
  },
  {
   "cell_type": "code",
   "execution_count": 3,
   "metadata": {},
   "outputs": [],
   "source": [
    "# since we have form in last x days, we need to drop at least the first x days\n",
    "# for now, drop first year to cover us\n",
    "df = df.loc[df['Date'] > df['Date'].min() + pd.Timedelta(days=365)].reset_index(drop=True)\n",
    "\n",
    "# randomly assign Player A and Player B to each match. First we'll\n",
    "# split the dataset randomly\n",
    "whole_df = df.copy()\n",
    "A_df = whole_df.sample(frac=0.5, replace=False, random_state=1)\n",
    "B_df = whole_df.drop(A_df.index)\n",
    "\n",
    "# in A_df, the winner is assigned A and the loser is assigned B.\n",
    "# in B_df, the winner is assigned B and the loser is assigned A.\n",
    "A_df = A_df.rename(columns={'Winner': 'Player A', 'Loser': 'Player B', 'WRank': 'Rank A', 'LRank': 'Rank B',\n",
    "                          'WForm': 'Form A', 'LForm': 'Form B',\n",
    "                          'WSurfaceWinProportion': 'SurfaceWinProportion A', 'LSurfaceWinProportion': 'SurfaceWinProportion B',\n",
    "                          'WH2HWinProportion': 'H2HWinProportion A', 'LH2HWinProportion': 'H2HWinProportion B'})\n",
    "\n",
    "B_df = B_df.rename(columns={'Winner': 'Player B', 'Loser': 'Player A', 'WRank': 'Rank B', 'LRank': 'Rank A',\n",
    "                          'WForm': 'Form B', 'LForm': 'Form A',\n",
    "                          'WSurfaceWinProportion': 'SurfaceWinProportion B', 'LSurfaceWinProportion': 'SurfaceWinProportion A',\n",
    "                          'WH2HWinProportion': 'H2HWinProportion B', 'LH2HWinProportion': 'H2HWinProportion A'})\n",
    "\n",
    "# construct label/target feature - Winner is 1 if player A won\n",
    "# and 0 if player B won\n",
    "A_df['Winner'] = 1\n",
    "B_df['Winner'] = 0\n",
    "\n",
    "# join dataframes and shuffle\n",
    "full_df = pd.concat([A_df, B_df]).sample(frac=1, random_state=1).reset_index(drop=True)"
   ]
  },
  {
   "cell_type": "markdown",
   "metadata": {},
   "source": [
    "## Machine learning"
   ]
  },
  {
   "cell_type": "code",
   "execution_count": null,
   "metadata": {},
   "outputs": [
    {
     "name": "stdout",
     "output_type": "stream",
     "text": [
      "Train set size: 49735\n",
      "Test set size: 12434\n",
      "+ who's ranked better wins\n",
      "+ FS2\n",
      "    - gradient boosting\n",
      "        - saving model\n",
      "+ FS3\n",
      "    - gradient boosting\n"
     ]
    }
   ],
   "source": [
    "# define feature sets (FS):\n",
    "fs_1 = ['Tournament', 'Series', 'Court', 'Surface', 'Round', 'Best of', 'Player A', 'Player B', 'Rank A', 'Rank B', 'Year', 'Month']\n",
    "\n",
    "fs_2 = ['Rank A', 'Rank B', 'Form A', 'Form B', 'SurfaceWinProportion A', 'SurfaceWinProportion B', 'H2HWinProportion A', 'H2HWinProportion B']\n",
    "\n",
    "fs_3 = ['Rank A', 'Rank B', 'Form A', 'Form B', 'SurfaceWinProportion A', 'SurfaceWinProportion B', 'H2HWinProportion A', 'H2HWinProportion B', 'H2HCount']\n",
    "\n",
    "feature_sets = [fs_2, fs_3]\n",
    "feature_sets_names = ['FS2', 'FS3']\n",
    "\n",
    "def calculate_ml_metrics(name, y_test, pred_test, y_train, pred_train) -> None:\n",
    "\n",
    "    results_df.loc[name, 'accuracy_train'] = accuracy_score(y_train, pred_train)\n",
    "    results_df.loc[name, 'accuracy_test'] = accuracy_score(y_test, pred_test)\n",
    "\n",
    "    results_df.loc[name, 'f1_train'] = f1_score(y_train, pred_train)\n",
    "    results_df.loc[name, 'f1_test'] = f1_score(y_test, pred_test)\n",
    "\n",
    "    results_df.loc[name, 'roc_auc_train'] = roc_auc_score(y_train, pred_train)\n",
    "    results_df.loc[name, 'roc_auc_test'] = roc_auc_score(y_test, pred_test)\n",
    "\n",
    "results_df = pd.DataFrame()\n",
    "\n",
    "# one-hot encode categorical features\n",
    "one_hot_df = pd.get_dummies(full_df)\n",
    "\n",
    "# split into test and train sets\n",
    "X_train, X_test, y_train, y_test = train_test_split(one_hot_df.drop(columns=['Winner']), one_hot_df['Winner'], test_size=0.2, random_state=42)\n",
    "print(f\"Train set size: {len(X_train)}\")\n",
    "print(f\"Test set size: {len(X_test)}\")\n",
    "\n",
    "# now for the models. We'll begin with a 'dumb' benchmark model: predict the better ranked player to win\n",
    "print(f\"+ who's ranked better wins\")\n",
    "pred_train = X_train['Rank A'] < X_train['Rank B']\n",
    "pred_test = X_test['Rank A'] < X_test['Rank B']\n",
    "calculate_ml_metrics('better_rank', y_test, pred_test, y_train, pred_train)\n",
    "\n",
    "for fs, fs_name in zip(feature_sets, feature_sets_names):\n",
    "    print(f\"+ {fs_name}\")\n",
    "\n",
    "    # cut down X_train and X_test to just selected features. As we've one-hot encoded\n",
    "    # we have to look for columns that contain each feature name\n",
    "    feature_columns = one_hot_df.columns[one_hot_df.columns.str.contains('|'.join(fs))]\n",
    "    X_train_fs = X_train[feature_columns]\n",
    "    X_test_fs = X_test[feature_columns]\n",
    "\n",
    "    # logistic regression\n",
    "    # print(f\"    - logistic regression\")\n",
    "    # lr = LogisticRegression()\n",
    "    # lr.fit(X_train_fs, y_train)\n",
    "    # pred_train = lr.predict(X_train_fs)\n",
    "    # pred_test = lr.predict(X_test_fs)\n",
    "    # calculate_ml_metrics(f\"{fs_name}_lr\", y_test, pred_test, y_train, pred_train)\n",
    "\n",
    "    # random forest\n",
    "    # print(f\"    - random forest\")\n",
    "    # rf = RandomForestClassifier(n_estimators=150, max_depth=6, random_state=42)\n",
    "    # rf.fit(X_train_fs, y_train)\n",
    "    # pred_train = rf.predict(X_train_fs)\n",
    "    # pred_test = rf.predict(X_test_fs)\n",
    "    # calculate_ml_metrics(f\"{fs_name}_rf\", y_test, pred_test, y_train, pred_train)\n",
    "\n",
    "    # gradient boosting\n",
    "    print(f\"    - gradient boosting\")\n",
    "    gb_max_depth = None\n",
    "    gb = HistGradientBoostingClassifier(max_depth=gb_max_depth, random_state=42)\n",
    "    gb.fit(X_train_fs, y_train)\n",
    "    pred_train = gb.predict(X_train_fs)\n",
    "    pred_test = gb.predict(X_test_fs)\n",
    "    calculate_ml_metrics(f\"{fs_name}_gb\", y_test, pred_test, y_train, pred_train)\n",
    "\n",
    "    # save gradient boosting model as pickle to local file if FS2. First add metadata\n",
    "    if fs_name == 'FS2':\n",
    "        print(f\"        - saving model\")\n",
    "\n",
    "        gb.metadata = {\n",
    "            'features': X_train_fs.columns.tolist(),\n",
    "            'feature_set_name': fs_name,\n",
    "            'model': 'gb',\n",
    "            'date_created': dt.datetime.now().strftime(\"%Y-%m-%d %H:%M:%S\"),\n",
    "            'model_params': {\n",
    "                'max_depth': gb_max_depth,\n",
    "                'random_state': 42\n",
    "            },\n",
    "            'model_metrics': {\n",
    "                'accuracy_train': accuracy_score(y_train, pred_train),\n",
    "                'accuracy_test': accuracy_score(y_test, pred_test),\n",
    "            }\n",
    "        }\n",
    "\n",
    "        with open('gb_model.pkl', 'wb') as f:\n",
    "            pickle.dump(gb, f)"
   ]
  },
  {
   "cell_type": "code",
   "execution_count": 25,
   "metadata": {},
   "outputs": [
    {
     "data": {
      "application/vnd.plotly.v1+json": {
       "config": {
        "plotlyServerURL": "https://plot.ly"
       },
       "data": [
        {
         "marker": {
          "color": [
           "red",
           "blue",
           "green",
           "orange",
           "purple",
           "pink",
           "yellow",
           "brown",
           "grey",
           "black"
          ]
         },
         "name": "accuracy_train",
         "opacity": 0.5,
         "type": "bar",
         "x": [
          "better_rank",
          "FS2_gb",
          "FS3_gb"
         ],
         "xaxis": "x",
         "y": {
          "bdata": "d3dx/DTm5D98GmG5pxHmPzbQm7ePGeY/",
          "dtype": "f8"
         },
         "yaxis": "y"
        },
        {
         "marker": {
          "color": [
           "red",
           "blue",
           "green",
           "orange",
           "purple",
           "pink",
           "yellow",
           "brown",
           "grey",
           "black"
          ]
         },
         "name": "accuracy_test",
         "type": "bar",
         "x": [
          "better_rank",
          "FS2_gb",
          "FS3_gb"
         ],
         "xaxis": "x",
         "y": {
          "bdata": "4Lluh+8P5T82H7qYa3PlP9kvxptxceU/",
          "dtype": "f8"
         },
         "yaxis": "y"
        },
        {
         "marker": {
          "color": [
           "red",
           "blue",
           "green",
           "orange",
           "purple",
           "pink",
           "yellow",
           "brown",
           "grey",
           "black"
          ]
         },
         "name": "f1_train",
         "opacity": 0.5,
         "type": "bar",
         "x": [
          "better_rank",
          "FS2_gb",
          "FS3_gb"
         ],
         "xaxis": "x2",
         "y": {
          "bdata": "kue+3Zvy5D9fUziPKhLmP/ulD6B1GeY/",
          "dtype": "f8"
         },
         "yaxis": "y2"
        },
        {
         "marker": {
          "color": [
           "red",
           "blue",
           "green",
           "orange",
           "purple",
           "pink",
           "yellow",
           "brown",
           "grey",
           "black"
          ]
         },
         "name": "f1_test",
         "type": "bar",
         "x": [
          "better_rank",
          "FS2_gb",
          "FS3_gb"
         ],
         "xaxis": "x2",
         "y": {
          "bdata": "uzDByokA5T/9M3YNzGvlP9Ra7qjYZ+U/",
          "dtype": "f8"
         },
         "yaxis": "y2"
        },
        {
         "marker": {
          "color": [
           "red",
           "blue",
           "green",
           "orange",
           "purple",
           "pink",
           "yellow",
           "brown",
           "grey",
           "black"
          ]
         },
         "name": "roc_auc_train",
         "opacity": 0.5,
         "type": "bar",
         "x": [
          "better_rank",
          "FS2_gb",
          "FS3_gb"
         ],
         "xaxis": "x3",
         "y": {
          "bdata": "1pDkfizm5D8jdM0GqRHmP9r+6ZSRGeY/",
          "dtype": "f8"
         },
         "yaxis": "y3"
        },
        {
         "marker": {
          "color": [
           "red",
           "blue",
           "green",
           "orange",
           "purple",
           "pink",
           "yellow",
           "brown",
           "grey",
           "black"
          ]
         },
         "name": "roc_auc_test",
         "type": "bar",
         "x": [
          "better_rank",
          "FS2_gb",
          "FS3_gb"
         ],
         "xaxis": "x3",
         "y": {
          "bdata": "0TmJ39cP5T8IlnqGbXPlP10As7BsceU/",
          "dtype": "f8"
         },
         "yaxis": "y3"
        }
       ],
       "layout": {
        "annotations": [
         {
          "font": {
           "size": 16
          },
          "showarrow": false,
          "text": "Accuracy",
          "x": 0.5,
          "xanchor": "center",
          "xref": "paper",
          "y": 1,
          "yanchor": "bottom",
          "yref": "paper"
         },
         {
          "font": {
           "size": 16
          },
          "showarrow": false,
          "text": "F1",
          "x": 0.5,
          "xanchor": "center",
          "xref": "paper",
          "y": 0.6111111111111112,
          "yanchor": "bottom",
          "yref": "paper"
         },
         {
          "font": {
           "size": 16
          },
          "showarrow": false,
          "text": "ROC AUC",
          "x": 0.5,
          "xanchor": "center",
          "xref": "paper",
          "y": 0.22222222222222224,
          "yanchor": "bottom",
          "yref": "paper"
         }
        ],
        "height": 1000,
        "template": {
         "data": {
          "bar": [
           {
            "error_x": {
             "color": "#2a3f5f"
            },
            "error_y": {
             "color": "#2a3f5f"
            },
            "marker": {
             "line": {
              "color": "#E5ECF6",
              "width": 0.5
             },
             "pattern": {
              "fillmode": "overlay",
              "size": 10,
              "solidity": 0.2
             }
            },
            "type": "bar"
           }
          ],
          "barpolar": [
           {
            "marker": {
             "line": {
              "color": "#E5ECF6",
              "width": 0.5
             },
             "pattern": {
              "fillmode": "overlay",
              "size": 10,
              "solidity": 0.2
             }
            },
            "type": "barpolar"
           }
          ],
          "carpet": [
           {
            "aaxis": {
             "endlinecolor": "#2a3f5f",
             "gridcolor": "white",
             "linecolor": "white",
             "minorgridcolor": "white",
             "startlinecolor": "#2a3f5f"
            },
            "baxis": {
             "endlinecolor": "#2a3f5f",
             "gridcolor": "white",
             "linecolor": "white",
             "minorgridcolor": "white",
             "startlinecolor": "#2a3f5f"
            },
            "type": "carpet"
           }
          ],
          "choropleth": [
           {
            "colorbar": {
             "outlinewidth": 0,
             "ticks": ""
            },
            "type": "choropleth"
           }
          ],
          "contour": [
           {
            "colorbar": {
             "outlinewidth": 0,
             "ticks": ""
            },
            "colorscale": [
             [
              0,
              "#0d0887"
             ],
             [
              0.1111111111111111,
              "#46039f"
             ],
             [
              0.2222222222222222,
              "#7201a8"
             ],
             [
              0.3333333333333333,
              "#9c179e"
             ],
             [
              0.4444444444444444,
              "#bd3786"
             ],
             [
              0.5555555555555556,
              "#d8576b"
             ],
             [
              0.6666666666666666,
              "#ed7953"
             ],
             [
              0.7777777777777778,
              "#fb9f3a"
             ],
             [
              0.8888888888888888,
              "#fdca26"
             ],
             [
              1,
              "#f0f921"
             ]
            ],
            "type": "contour"
           }
          ],
          "contourcarpet": [
           {
            "colorbar": {
             "outlinewidth": 0,
             "ticks": ""
            },
            "type": "contourcarpet"
           }
          ],
          "heatmap": [
           {
            "colorbar": {
             "outlinewidth": 0,
             "ticks": ""
            },
            "colorscale": [
             [
              0,
              "#0d0887"
             ],
             [
              0.1111111111111111,
              "#46039f"
             ],
             [
              0.2222222222222222,
              "#7201a8"
             ],
             [
              0.3333333333333333,
              "#9c179e"
             ],
             [
              0.4444444444444444,
              "#bd3786"
             ],
             [
              0.5555555555555556,
              "#d8576b"
             ],
             [
              0.6666666666666666,
              "#ed7953"
             ],
             [
              0.7777777777777778,
              "#fb9f3a"
             ],
             [
              0.8888888888888888,
              "#fdca26"
             ],
             [
              1,
              "#f0f921"
             ]
            ],
            "type": "heatmap"
           }
          ],
          "histogram": [
           {
            "marker": {
             "pattern": {
              "fillmode": "overlay",
              "size": 10,
              "solidity": 0.2
             }
            },
            "type": "histogram"
           }
          ],
          "histogram2d": [
           {
            "colorbar": {
             "outlinewidth": 0,
             "ticks": ""
            },
            "colorscale": [
             [
              0,
              "#0d0887"
             ],
             [
              0.1111111111111111,
              "#46039f"
             ],
             [
              0.2222222222222222,
              "#7201a8"
             ],
             [
              0.3333333333333333,
              "#9c179e"
             ],
             [
              0.4444444444444444,
              "#bd3786"
             ],
             [
              0.5555555555555556,
              "#d8576b"
             ],
             [
              0.6666666666666666,
              "#ed7953"
             ],
             [
              0.7777777777777778,
              "#fb9f3a"
             ],
             [
              0.8888888888888888,
              "#fdca26"
             ],
             [
              1,
              "#f0f921"
             ]
            ],
            "type": "histogram2d"
           }
          ],
          "histogram2dcontour": [
           {
            "colorbar": {
             "outlinewidth": 0,
             "ticks": ""
            },
            "colorscale": [
             [
              0,
              "#0d0887"
             ],
             [
              0.1111111111111111,
              "#46039f"
             ],
             [
              0.2222222222222222,
              "#7201a8"
             ],
             [
              0.3333333333333333,
              "#9c179e"
             ],
             [
              0.4444444444444444,
              "#bd3786"
             ],
             [
              0.5555555555555556,
              "#d8576b"
             ],
             [
              0.6666666666666666,
              "#ed7953"
             ],
             [
              0.7777777777777778,
              "#fb9f3a"
             ],
             [
              0.8888888888888888,
              "#fdca26"
             ],
             [
              1,
              "#f0f921"
             ]
            ],
            "type": "histogram2dcontour"
           }
          ],
          "mesh3d": [
           {
            "colorbar": {
             "outlinewidth": 0,
             "ticks": ""
            },
            "type": "mesh3d"
           }
          ],
          "parcoords": [
           {
            "line": {
             "colorbar": {
              "outlinewidth": 0,
              "ticks": ""
             }
            },
            "type": "parcoords"
           }
          ],
          "pie": [
           {
            "automargin": true,
            "type": "pie"
           }
          ],
          "scatter": [
           {
            "fillpattern": {
             "fillmode": "overlay",
             "size": 10,
             "solidity": 0.2
            },
            "type": "scatter"
           }
          ],
          "scatter3d": [
           {
            "line": {
             "colorbar": {
              "outlinewidth": 0,
              "ticks": ""
             }
            },
            "marker": {
             "colorbar": {
              "outlinewidth": 0,
              "ticks": ""
             }
            },
            "type": "scatter3d"
           }
          ],
          "scattercarpet": [
           {
            "marker": {
             "colorbar": {
              "outlinewidth": 0,
              "ticks": ""
             }
            },
            "type": "scattercarpet"
           }
          ],
          "scattergeo": [
           {
            "marker": {
             "colorbar": {
              "outlinewidth": 0,
              "ticks": ""
             }
            },
            "type": "scattergeo"
           }
          ],
          "scattergl": [
           {
            "marker": {
             "colorbar": {
              "outlinewidth": 0,
              "ticks": ""
             }
            },
            "type": "scattergl"
           }
          ],
          "scattermap": [
           {
            "marker": {
             "colorbar": {
              "outlinewidth": 0,
              "ticks": ""
             }
            },
            "type": "scattermap"
           }
          ],
          "scattermapbox": [
           {
            "marker": {
             "colorbar": {
              "outlinewidth": 0,
              "ticks": ""
             }
            },
            "type": "scattermapbox"
           }
          ],
          "scatterpolar": [
           {
            "marker": {
             "colorbar": {
              "outlinewidth": 0,
              "ticks": ""
             }
            },
            "type": "scatterpolar"
           }
          ],
          "scatterpolargl": [
           {
            "marker": {
             "colorbar": {
              "outlinewidth": 0,
              "ticks": ""
             }
            },
            "type": "scatterpolargl"
           }
          ],
          "scatterternary": [
           {
            "marker": {
             "colorbar": {
              "outlinewidth": 0,
              "ticks": ""
             }
            },
            "type": "scatterternary"
           }
          ],
          "surface": [
           {
            "colorbar": {
             "outlinewidth": 0,
             "ticks": ""
            },
            "colorscale": [
             [
              0,
              "#0d0887"
             ],
             [
              0.1111111111111111,
              "#46039f"
             ],
             [
              0.2222222222222222,
              "#7201a8"
             ],
             [
              0.3333333333333333,
              "#9c179e"
             ],
             [
              0.4444444444444444,
              "#bd3786"
             ],
             [
              0.5555555555555556,
              "#d8576b"
             ],
             [
              0.6666666666666666,
              "#ed7953"
             ],
             [
              0.7777777777777778,
              "#fb9f3a"
             ],
             [
              0.8888888888888888,
              "#fdca26"
             ],
             [
              1,
              "#f0f921"
             ]
            ],
            "type": "surface"
           }
          ],
          "table": [
           {
            "cells": {
             "fill": {
              "color": "#EBF0F8"
             },
             "line": {
              "color": "white"
             }
            },
            "header": {
             "fill": {
              "color": "#C8D4E3"
             },
             "line": {
              "color": "white"
             }
            },
            "type": "table"
           }
          ]
         },
         "layout": {
          "annotationdefaults": {
           "arrowcolor": "#2a3f5f",
           "arrowhead": 0,
           "arrowwidth": 1
          },
          "autotypenumbers": "strict",
          "coloraxis": {
           "colorbar": {
            "outlinewidth": 0,
            "ticks": ""
           }
          },
          "colorscale": {
           "diverging": [
            [
             0,
             "#8e0152"
            ],
            [
             0.1,
             "#c51b7d"
            ],
            [
             0.2,
             "#de77ae"
            ],
            [
             0.3,
             "#f1b6da"
            ],
            [
             0.4,
             "#fde0ef"
            ],
            [
             0.5,
             "#f7f7f7"
            ],
            [
             0.6,
             "#e6f5d0"
            ],
            [
             0.7,
             "#b8e186"
            ],
            [
             0.8,
             "#7fbc41"
            ],
            [
             0.9,
             "#4d9221"
            ],
            [
             1,
             "#276419"
            ]
           ],
           "sequential": [
            [
             0,
             "#0d0887"
            ],
            [
             0.1111111111111111,
             "#46039f"
            ],
            [
             0.2222222222222222,
             "#7201a8"
            ],
            [
             0.3333333333333333,
             "#9c179e"
            ],
            [
             0.4444444444444444,
             "#bd3786"
            ],
            [
             0.5555555555555556,
             "#d8576b"
            ],
            [
             0.6666666666666666,
             "#ed7953"
            ],
            [
             0.7777777777777778,
             "#fb9f3a"
            ],
            [
             0.8888888888888888,
             "#fdca26"
            ],
            [
             1,
             "#f0f921"
            ]
           ],
           "sequentialminus": [
            [
             0,
             "#0d0887"
            ],
            [
             0.1111111111111111,
             "#46039f"
            ],
            [
             0.2222222222222222,
             "#7201a8"
            ],
            [
             0.3333333333333333,
             "#9c179e"
            ],
            [
             0.4444444444444444,
             "#bd3786"
            ],
            [
             0.5555555555555556,
             "#d8576b"
            ],
            [
             0.6666666666666666,
             "#ed7953"
            ],
            [
             0.7777777777777778,
             "#fb9f3a"
            ],
            [
             0.8888888888888888,
             "#fdca26"
            ],
            [
             1,
             "#f0f921"
            ]
           ]
          },
          "colorway": [
           "#636efa",
           "#EF553B",
           "#00cc96",
           "#ab63fa",
           "#FFA15A",
           "#19d3f3",
           "#FF6692",
           "#B6E880",
           "#FF97FF",
           "#FECB52"
          ],
          "font": {
           "color": "#2a3f5f"
          },
          "geo": {
           "bgcolor": "white",
           "lakecolor": "white",
           "landcolor": "#E5ECF6",
           "showlakes": true,
           "showland": true,
           "subunitcolor": "white"
          },
          "hoverlabel": {
           "align": "left"
          },
          "hovermode": "closest",
          "mapbox": {
           "style": "light"
          },
          "paper_bgcolor": "white",
          "plot_bgcolor": "#E5ECF6",
          "polar": {
           "angularaxis": {
            "gridcolor": "white",
            "linecolor": "white",
            "ticks": ""
           },
           "bgcolor": "#E5ECF6",
           "radialaxis": {
            "gridcolor": "white",
            "linecolor": "white",
            "ticks": ""
           }
          },
          "scene": {
           "xaxis": {
            "backgroundcolor": "#E5ECF6",
            "gridcolor": "white",
            "gridwidth": 2,
            "linecolor": "white",
            "showbackground": true,
            "ticks": "",
            "zerolinecolor": "white"
           },
           "yaxis": {
            "backgroundcolor": "#E5ECF6",
            "gridcolor": "white",
            "gridwidth": 2,
            "linecolor": "white",
            "showbackground": true,
            "ticks": "",
            "zerolinecolor": "white"
           },
           "zaxis": {
            "backgroundcolor": "#E5ECF6",
            "gridcolor": "white",
            "gridwidth": 2,
            "linecolor": "white",
            "showbackground": true,
            "ticks": "",
            "zerolinecolor": "white"
           }
          },
          "shapedefaults": {
           "line": {
            "color": "#2a3f5f"
           }
          },
          "ternary": {
           "aaxis": {
            "gridcolor": "white",
            "linecolor": "white",
            "ticks": ""
           },
           "baxis": {
            "gridcolor": "white",
            "linecolor": "white",
            "ticks": ""
           },
           "bgcolor": "#E5ECF6",
           "caxis": {
            "gridcolor": "white",
            "linecolor": "white",
            "ticks": ""
           }
          },
          "title": {
           "x": 0.05
          },
          "xaxis": {
           "automargin": true,
           "gridcolor": "white",
           "linecolor": "white",
           "ticks": "",
           "title": {
            "standoff": 15
           },
           "zerolinecolor": "white",
           "zerolinewidth": 2
          },
          "yaxis": {
           "automargin": true,
           "gridcolor": "white",
           "linecolor": "white",
           "ticks": "",
           "title": {
            "standoff": 15
           },
           "zerolinecolor": "white",
           "zerolinewidth": 2
          }
         }
        },
        "title": {
         "text": "Model Performance"
        },
        "xaxis": {
         "anchor": "y",
         "domain": [
          0,
          1
         ]
        },
        "xaxis2": {
         "anchor": "y2",
         "domain": [
          0,
          1
         ]
        },
        "xaxis3": {
         "anchor": "y3",
         "domain": [
          0,
          1
         ]
        },
        "yaxis": {
         "anchor": "x",
         "domain": [
          0.7777777777777778,
          1
         ],
         "range": [
          0.5,
          1
         ]
        },
        "yaxis2": {
         "anchor": "x2",
         "domain": [
          0.3888888888888889,
          0.6111111111111112
         ],
         "range": [
          0.5,
          1
         ]
        },
        "yaxis3": {
         "anchor": "x3",
         "domain": [
          0,
          0.22222222222222224
         ],
         "range": [
          0.5,
          1
         ]
        }
       }
      }
     },
     "metadata": {},
     "output_type": "display_data"
    }
   ],
   "source": [
    "colors = ['red', 'blue', 'green', 'orange', 'purple', 'pink', 'yellow', 'brown', 'grey', 'black']\n",
    "\n",
    "fig = make_subplots(rows=3, cols=1, subplot_titles=('Accuracy', 'F1', 'ROC AUC'))\n",
    "\n",
    "fig.add_trace(go.Bar(x=results_df.index, y=results_df.accuracy_train, name='accuracy_train', marker_color=colors, opacity=0.5),\n",
    "                row=1, col=1)\n",
    "fig.add_trace(go.Bar(x=results_df.index, y=results_df.accuracy_test, name='accuracy_test', marker_color=colors),\n",
    "              row=1, col=1)\n",
    "\n",
    "fig.add_trace(go.Bar(x=results_df.index, y=results_df.f1_train, name='f1_train', marker_color=colors, opacity=0.5),\n",
    "                row=2, col=1)\n",
    "fig.add_trace(go.Bar(x=results_df.index, y=results_df.f1_test, name='f1_test', marker_color=colors),\n",
    "                row=2, col=1)\n",
    "\n",
    "fig.add_trace(go.Bar(x=results_df.index, y=results_df.roc_auc_train, name='roc_auc_train', marker_color=colors, opacity=0.5),\n",
    "                row=3, col=1)\n",
    "fig.add_trace(go.Bar(x=results_df.index, y=results_df.roc_auc_test, name='roc_auc_test', marker_color=colors),\n",
    "                row=3, col=1)\n",
    "\n",
    "fig.update_layout(title_text = 'Model Performance', height=1000)\n",
    "\n",
    "fig.update_yaxes(range=[0.5, 1])\n"
   ]
  },
  {
   "cell_type": "code",
   "execution_count": null,
   "metadata": {},
   "outputs": [],
   "source": []
  },
  {
   "cell_type": "code",
   "execution_count": null,
   "metadata": {},
   "outputs": [],
   "source": []
  }
 ],
 "metadata": {
  "kernelspec": {
   "display_name": "Python 3",
   "language": "python",
   "name": "python3"
  },
  "language_info": {
   "codemirror_mode": {
    "name": "ipython",
    "version": 3
   },
   "file_extension": ".py",
   "mimetype": "text/x-python",
   "name": "python",
   "nbconvert_exporter": "python",
   "pygments_lexer": "ipython3",
   "version": "3.13.3"
  },
  "orig_nbformat": 4
 },
 "nbformat": 4,
 "nbformat_minor": 2
}
